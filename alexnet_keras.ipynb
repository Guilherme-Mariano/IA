{
  "nbformat": 4,
  "nbformat_minor": 0,
  "metadata": {
    "colab": {
      "provenance": []
    },
    "kernelspec": {
      "name": "python3",
      "display_name": "Python 3"
    },
    "language_info": {
      "name": "python"
    }
  },
  "cells": [
    {
      "cell_type": "code",
      "execution_count": 27,
      "metadata": {
        "id": "rR_dm92m1UAy"
      },
      "outputs": [],
      "source": [
        "import tensorflow as tf\n",
        "from tensorflow.keras import layers, models, utils\n",
        "from tensorflow.keras.datasets import mnist\n",
        "from tensorflow.keras.datasets import fashion_mnist\n",
        "from tensorflow.keras.utils import to_categorical\n"
      ]
    },
    {
      "cell_type": "code",
      "source": [
        "def create_alexnet(input_shape, num_classes):\n",
        "    model = models.Sequential([\n",
        "        layers.Reshape((28,28,1), input_shape=input_shape),\n",
        "        # Primeira Camada convolucional\n",
        "        layers.Conv2D(32,(3,3),strides=(1,1),activation='relu'),\n",
        "        layers.MaxPooling2D((2,2),strides=(2,2)),\n",
        "        # Segunda Camada Convolucional\n",
        "        layers.Conv2D(64,(3,3),activation='relu',padding='same'),\n",
        "        layers.MaxPooling2D((2,2),strides=(2,2)),\n",
        "        # Terceira Camada Convolucional\n",
        "        layers.Conv2D(128,(3,3),activation='relu',padding='same'),\n",
        "        # Quarta Camada Convolucional\n",
        "        layers.Conv2D(128,(3,3),activation='relu',padding='same'),\n",
        "        # Quinta Camada Convolucional\n",
        "        layers.Conv2D(128,(3,3),activation='relu',padding='same'),\n",
        "        # Flatten para transformar em vetor\n",
        "        layers.Flatten(),\n",
        "        # Primeira Camada Densa\n",
        "        layers.Dense(512,activation='relu'),\n",
        "        layers.Dropout(0.5),\n",
        "        # Segunda Camada Densa\n",
        "        layers.Dense(256,activation='relu'),\n",
        "        layers.Dropout(0.5),\n",
        "        # Camada de Saída\n",
        "        layers.Dense(10,activation='softmax')\n",
        "    ])\n",
        "    return model"
      ],
      "metadata": {
        "id": "8fyiGgeB1uRV"
      },
      "execution_count": 12,
      "outputs": []
    },
    {
      "cell_type": "code",
      "source": [
        "# Carregando MNIST\n",
        "(x_train, y_train), (x_test, y_test) = mnist.load_data()"
      ],
      "metadata": {
        "id": "IDmK_WlV2hsz"
      },
      "execution_count": 13,
      "outputs": []
    },
    {
      "cell_type": "code",
      "source": [
        "# Normalizando valores\n",
        "x_train = x_train / 255.0\n",
        "x_test = x_test / 255.0"
      ],
      "metadata": {
        "id": "ZxqVfXg42lhn"
      },
      "execution_count": 14,
      "outputs": []
    },
    {
      "cell_type": "code",
      "source": [
        "# Convertendo para onehotencoding\n",
        "y_train = utils.to_categorical(y_train, 10)\n",
        "y_test = utils.to_categorical(y_test, 10)"
      ],
      "metadata": {
        "id": "L2pDmJaB2nem"
      },
      "execution_count": 15,
      "outputs": []
    },
    {
      "cell_type": "code",
      "source": [
        "input_shape = x_train.shape[1:]\n",
        "num_classes = 10"
      ],
      "metadata": {
        "id": "G055qEq841xv"
      },
      "execution_count": 19,
      "outputs": []
    },
    {
      "cell_type": "code",
      "source": [
        "model = create_alexnet(input_shape, num_classes)\n",
        "\n",
        "model.compile(optimizer='adam', loss='categorical_crossentropy', metrics=['accuracy'])\n",
        "\n",
        "model.fit(x_train, y_train, epochs=3, batch_size=64, validation_data=(x_test,y_test))\n",
        "\n",
        "test_loss, test_accuracy = model.evaluate(x_test, y_test)\n",
        "print(f\"\\n\\n\\nAcuracia: {test_accuracy:.6f}\")"
      ],
      "metadata": {
        "colab": {
          "base_uri": "https://localhost:8080/"
        },
        "id": "AQh02dnb2o80",
        "outputId": "322c6ec7-fde0-4e96-8875-b4da76214874"
      },
      "execution_count": 20,
      "outputs": [
        {
          "output_type": "stream",
          "name": "stdout",
          "text": [
            "Epoch 1/3\n",
            "\u001b[1m938/938\u001b[0m \u001b[32m━━━━━━━━━━━━━━━━━━━━\u001b[0m\u001b[37m\u001b[0m \u001b[1m256s\u001b[0m 270ms/step - accuracy: 0.8456 - loss: 0.4727 - val_accuracy: 0.9866 - val_loss: 0.0453\n",
            "Epoch 2/3\n",
            "\u001b[1m938/938\u001b[0m \u001b[32m━━━━━━━━━━━━━━━━━━━━\u001b[0m\u001b[37m\u001b[0m \u001b[1m247s\u001b[0m 263ms/step - accuracy: 0.9816 - loss: 0.0664 - val_accuracy: 0.9915 - val_loss: 0.0313\n",
            "Epoch 3/3\n",
            "\u001b[1m938/938\u001b[0m \u001b[32m━━━━━━━━━━━━━━━━━━━━\u001b[0m\u001b[37m\u001b[0m \u001b[1m265s\u001b[0m 267ms/step - accuracy: 0.9882 - loss: 0.0420 - val_accuracy: 0.9911 - val_loss: 0.0296\n",
            "\u001b[1m313/313\u001b[0m \u001b[32m━━━━━━━━━━━━━━━━━━━━\u001b[0m\u001b[37m\u001b[0m \u001b[1m10s\u001b[0m 33ms/step - accuracy: 0.9894 - loss: 0.0388\n",
            "\n",
            "\n",
            "\n",
            "Acuracia: 0.99\n"
          ]
        }
      ]
    },
    {
      "cell_type": "code",
      "source": [
        "x_test.shape"
      ],
      "metadata": {
        "colab": {
          "base_uri": "https://localhost:8080/"
        },
        "id": "PzYEsP4yGKsn",
        "outputId": "30a7eeb6-16c7-4845-ca59-c8ba391f4fa4"
      },
      "execution_count": 25,
      "outputs": [
        {
          "output_type": "execute_result",
          "data": {
            "text/plain": [
              "(10000, 28, 28, 1)"
            ]
          },
          "metadata": {},
          "execution_count": 25
        }
      ]
    },
    {
      "cell_type": "code",
      "source": [
        "y_test.shape"
      ],
      "metadata": {
        "colab": {
          "base_uri": "https://localhost:8080/"
        },
        "id": "qnsaTyRLGNMD",
        "outputId": "299457e7-3c7a-437e-cac4-7944ec961dfa"
      },
      "execution_count": 26,
      "outputs": [
        {
          "output_type": "execute_result",
          "data": {
            "text/plain": [
              "(10000,)"
            ]
          },
          "metadata": {},
          "execution_count": 26
        }
      ]
    },
    {
      "cell_type": "code",
      "source": [
        "# Carregar o dataset Fashion MNIST\n",
        "(x_train, y_train), (x_test, y_test) = fashion_mnist.load_data()\n",
        "\n",
        "#x_train = x_train / 255.0\n",
        "#x_test = x_test / 255.0\n",
        "\n",
        "input_shape = x_train.shape[1:]\n",
        "num_classes = 10\n",
        "\n",
        "y_train = to_categorical(y_train, num_classes=num_classes)\n",
        "y_test = to_categorical(y_test, num_classes=num_classes)\n",
        "\n",
        "\n",
        "model2 = create_alexnet(input_shape, num_classes)\n",
        "\n",
        "model2.compile(optimizer='adam',\n",
        "              loss='categorical_crossentropy',\n",
        "              metrics=['accuracy'])\n",
        "\n",
        "model2.fit(x_train, y_train, epochs=6, batch_size=64, validation_split=0.1)\n",
        "loss, accuracy = model2.evaluate(x_test, y_test)\n",
        "print(f\"Perda no teste: {loss:.4f}, Acurácia no teste: {accuracy:.4f}\")\n"
      ],
      "metadata": {
        "colab": {
          "base_uri": "https://localhost:8080/"
        },
        "id": "9X-HtU1m2qrO",
        "outputId": "88370e81-b949-49bc-8b41-2f6bf295d8ce"
      },
      "execution_count": 32,
      "outputs": [
        {
          "output_type": "stream",
          "name": "stdout",
          "text": [
            "Epoch 1/6\n",
            "\u001b[1m844/844\u001b[0m \u001b[32m━━━━━━━━━━━━━━━━━━━━\u001b[0m\u001b[37m\u001b[0m \u001b[1m220s\u001b[0m 258ms/step - accuracy: 0.6972 - loss: 1.1008 - val_accuracy: 0.8692 - val_loss: 0.3590\n",
            "Epoch 2/6\n",
            "\u001b[1m844/844\u001b[0m \u001b[32m━━━━━━━━━━━━━━━━━━━━\u001b[0m\u001b[37m\u001b[0m \u001b[1m260s\u001b[0m 255ms/step - accuracy: 0.8696 - loss: 0.3754 - val_accuracy: 0.8940 - val_loss: 0.3193\n",
            "Epoch 3/6\n",
            "\u001b[1m844/844\u001b[0m \u001b[32m━━━━━━━━━━━━━━━━━━━━\u001b[0m\u001b[37m\u001b[0m \u001b[1m215s\u001b[0m 255ms/step - accuracy: 0.8888 - loss: 0.3151 - val_accuracy: 0.8862 - val_loss: 0.3197\n",
            "Epoch 4/6\n",
            "\u001b[1m844/844\u001b[0m \u001b[32m━━━━━━━━━━━━━━━━━━━━\u001b[0m\u001b[37m\u001b[0m \u001b[1m265s\u001b[0m 258ms/step - accuracy: 0.8997 - loss: 0.2822 - val_accuracy: 0.8992 - val_loss: 0.2799\n",
            "Epoch 5/6\n",
            "\u001b[1m844/844\u001b[0m \u001b[32m━━━━━━━━━━━━━━━━━━━━\u001b[0m\u001b[37m\u001b[0m \u001b[1m261s\u001b[0m 257ms/step - accuracy: 0.9051 - loss: 0.2623 - val_accuracy: 0.8903 - val_loss: 0.2937\n",
            "Epoch 6/6\n",
            "\u001b[1m844/844\u001b[0m \u001b[32m━━━━━━━━━━━━━━━━━━━━\u001b[0m\u001b[37m\u001b[0m \u001b[1m215s\u001b[0m 255ms/step - accuracy: 0.9070 - loss: 0.2573 - val_accuracy: 0.8960 - val_loss: 0.2746\n",
            "\u001b[1m313/313\u001b[0m \u001b[32m━━━━━━━━━━━━━━━━━━━━\u001b[0m\u001b[37m\u001b[0m \u001b[1m12s\u001b[0m 38ms/step - accuracy: 0.8910 - loss: 0.2999\n",
            "Perda no teste: 0.2964, Acurácia no teste: 0.8935\n"
          ]
        }
      ]
    },
    {
      "cell_type": "code",
      "source": [],
      "metadata": {
        "id": "gk_Xdg4sF3XK"
      },
      "execution_count": null,
      "outputs": []
    }
  ]
}