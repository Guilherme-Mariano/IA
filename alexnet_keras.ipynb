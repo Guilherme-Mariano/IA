{
  "nbformat": 4,
  "nbformat_minor": 0,
  "metadata": {
    "colab": {
      "provenance": []
    },
    "kernelspec": {
      "name": "python3",
      "display_name": "Python 3"
    },
    "language_info": {
      "name": "python"
    }
  },
  "cells": [
    {
      "cell_type": "code",
      "execution_count": 1,
      "metadata": {
        "id": "s-OpTiD7O96F"
      },
      "outputs": [],
      "source": [
        "import tensorflow as tf\n",
        "from tensorflow.keras import layers, models, utils\n",
        "from tensorflow.keras.datasets import mnist"
      ]
    },
    {
      "cell_type": "code",
      "source": [
        "# Carregando dados\n",
        "(x_train, y_train), (x_test, y_test) = mnist.load_data()"
      ],
      "metadata": {
        "colab": {
          "base_uri": "https://localhost:8080/"
        },
        "id": "Ce6DnQMsPO4N",
        "outputId": "af74388f-5da0-45dc-c0e9-a60dcf08b3bb"
      },
      "execution_count": 2,
      "outputs": [
        {
          "output_type": "stream",
          "name": "stdout",
          "text": [
            "Downloading data from https://storage.googleapis.com/tensorflow/tf-keras-datasets/mnist.npz\n",
            "\u001b[1m11490434/11490434\u001b[0m \u001b[32m━━━━━━━━━━━━━━━━━━━━\u001b[0m\u001b[37m\u001b[0m \u001b[1m0s\u001b[0m 0us/step\n"
          ]
        }
      ]
    },
    {
      "cell_type": "code",
      "source": [
        "# Normalizando valores para [0, 1]\n",
        "x_train = x_train / 255.0\n",
        "x_test = x_test / 255.0"
      ],
      "metadata": {
        "id": "lqs41ez-QQQP"
      },
      "execution_count": 3,
      "outputs": []
    },
    {
      "cell_type": "code",
      "source": [
        "# Convertendo rotulos para onehotencoding\n",
        "y_train = utils.to_categorical(y_train, 10)\n",
        "y_test = utils.to_categorical(y_test, 10)"
      ],
      "metadata": {
        "id": "sccWUXP5Qb7x"
      },
      "execution_count": 4,
      "outputs": []
    },
    {
      "cell_type": "code",
      "source": [
        "# Montando alexnet\n",
        "def create_alexnet():\n",
        "  model = models.Sequential([\n",
        "      # Camda de reconfig para ser compatível com keras\n",
        "      layers.Reshape((28,28,1), input_shape=(28,28)),\n",
        "      # Primeira Camada convolucional\n",
        "      layers.Conv2D(32,(3,3),strides=(1,1),activation='relu'),\n",
        "      layers.MaxPooling2D((2,2),strides=(2,2)),\n",
        "      # Segunda Camada Convolucional\n",
        "      layers.Conv2D(64,(3,3),activation='relu',padding='same'),\n",
        "      layers.MaxPooling2D((2,2),strides=(2,2)),\n",
        "      # Terceira Camada Convolucional\n",
        "      layers.Conv2D(128,(3,3),activation='relu',padding='same'),\n",
        "      # Quarta Camada Convolucional\n",
        "      layers.Conv2D(128,(3,3),activation='relu',padding='same'),\n",
        "      # Quinta Camada Convolucional\n",
        "      layers.Conv2D(128,(3,3),activation='relu',padding='same'),\n",
        "      # Flatten para transformar em vetor\n",
        "      layers.Flatten(),\n",
        "      # Primeira Camada Densa\n",
        "      layers.Dense(512,activation='relu'),\n",
        "      layers.Dropout(0.5),\n",
        "      # Segunda Camada Densa\n",
        "      layers.Dense(256,activation='relu'),\n",
        "      layers.Dropout(0.5),\n",
        "      # Camada de Saída\n",
        "      layers.Dense(10,activation='softmax')\n",
        "  ])\n",
        "  return model"
      ],
      "metadata": {
        "id": "z8xAe1IkQnW7"
      },
      "execution_count": 5,
      "outputs": []
    },
    {
      "cell_type": "code",
      "source": [
        "# Criando Modelo\n",
        "model = create_alexnet()\n",
        "\n",
        "# Compilando\n",
        "model.compile(optimizer='adam', loss='categorical_crossentropy', metrics=['accuracy'])\n",
        "\n",
        "# Treinando\n",
        "model.fit(x_train, y_train, epochs=3, batch_size=64, validation_data=(x_test,y_test))\n",
        "\n",
        "# Avaliação\n",
        "test_loss, test_accuracy = model.evaluate(x_test, y_test)\n",
        "print(f\"Test Accuracy: {test_accuracy:.2f}\")"
      ],
      "metadata": {
        "colab": {
          "base_uri": "https://localhost:8080/"
        },
        "id": "1ygAj3vvWJ3i",
        "outputId": "58efc274-fc60-4bd9-f80f-dbf166f246f5"
      },
      "execution_count": 7,
      "outputs": [
        {
          "output_type": "stream",
          "name": "stderr",
          "text": [
            "/usr/local/lib/python3.10/dist-packages/keras/src/layers/reshaping/reshape.py:39: UserWarning: Do not pass an `input_shape`/`input_dim` argument to a layer. When using Sequential models, prefer using an `Input(shape)` object as the first layer in the model instead.\n",
            "  super().__init__(**kwargs)\n"
          ]
        },
        {
          "output_type": "stream",
          "name": "stdout",
          "text": [
            "Epoch 1/3\n",
            "\u001b[1m938/938\u001b[0m \u001b[32m━━━━━━━━━━━━━━━━━━━━\u001b[0m\u001b[37m\u001b[0m \u001b[1m220s\u001b[0m 232ms/step - accuracy: 0.8419 - loss: 0.4769 - val_accuracy: 0.9839 - val_loss: 0.0526\n",
            "Epoch 2/3\n",
            "\u001b[1m938/938\u001b[0m \u001b[32m━━━━━━━━━━━━━━━━━━━━\u001b[0m\u001b[37m\u001b[0m \u001b[1m254s\u001b[0m 224ms/step - accuracy: 0.9818 - loss: 0.0665 - val_accuracy: 0.9901 - val_loss: 0.0344\n",
            "Epoch 3/3\n",
            "\u001b[1m938/938\u001b[0m \u001b[32m━━━━━━━━━━━━━━━━━━━━\u001b[0m\u001b[37m\u001b[0m \u001b[1m261s\u001b[0m 222ms/step - accuracy: 0.9871 - loss: 0.0450 - val_accuracy: 0.9911 - val_loss: 0.0300\n",
            "\u001b[1m313/313\u001b[0m \u001b[32m━━━━━━━━━━━━━━━━━━━━\u001b[0m\u001b[37m\u001b[0m \u001b[1m10s\u001b[0m 32ms/step - accuracy: 0.9890 - loss: 0.0381\n",
            "Test Accuracy: 0.99\n"
          ]
        }
      ]
    },
    {
      "cell_type": "code",
      "source": [],
      "metadata": {
        "id": "SgkBvTwlXlgX"
      },
      "execution_count": null,
      "outputs": []
    }
  ]
}